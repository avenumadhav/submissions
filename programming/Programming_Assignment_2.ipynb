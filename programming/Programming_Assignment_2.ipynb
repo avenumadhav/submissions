{
 "cells": [
  {
   "cell_type": "markdown",
   "metadata": {},
   "source": [
    "### 1. Write a Python program to convert kilometers to miles?\n",
    "\n"
   ]
  },
  {
   "cell_type": "code",
   "execution_count": 4,
   "metadata": {},
   "outputs": [
    {
     "name": "stdout",
     "output_type": "stream",
     "text": [
      "enter a number in kilometer to convert to miles20\n",
      "entered distance in miles is 12.43\n"
     ]
    }
   ],
   "source": [
    "try:\n",
    "    km = float(input('enter a number in kilometer to convert to miles'))\n",
    "    m = 0.621371 * km\n",
    "except Exception as e: \n",
    "    print(e)\n",
    "    print('enter a number')\n",
    "else:\n",
    "    print('entered distance in miles is %.2f' %m)"
   ]
  },
  {
   "cell_type": "markdown",
   "metadata": {},
   "source": [
    "### 2. Write a Python program to convert Celsius to Fahrenheit?\n",
    "\n"
   ]
  },
  {
   "cell_type": "code",
   "execution_count": 2,
   "metadata": {},
   "outputs": [
    {
     "name": "stdout",
     "output_type": "stream",
     "text": [
      "enter the celcius temperature to convert to farenheit23\n",
      "temperature in farenheit is f 73.4\n"
     ]
    }
   ],
   "source": [
    "try:\n",
    "    c = float(input('enter the celcius temperature to convert to farenheit'))\n",
    "    f = (c*1.8) + 32\n",
    "except Exception as e:\n",
    "    print(e)\n",
    "    print('enter a number ')\n",
    "else: \n",
    "    print('temperature in farenheit is ', f)"
   ]
  },
  {
   "cell_type": "markdown",
   "metadata": {},
   "source": [
    "### 3. Write a Python program to display calendar?\n"
   ]
  },
  {
   "cell_type": "code",
   "execution_count": 5,
   "metadata": {},
   "outputs": [
    {
     "name": "stdout",
     "output_type": "stream",
     "text": [
      "Enter an year as YYYY2022\n",
      "Enter a month number4\n",
      "\n",
      "     April 2022\n",
      "Mo Tu We Th Fr Sa Su\n",
      "             1  2  3\n",
      " 4  5  6  7  8  9 10\n",
      "11 12 13 14 15 16 17\n",
      "18 19 20 21 22 23 24\n",
      "25 26 27 28 29 30\n",
      "\n"
     ]
    }
   ],
   "source": [
    "import calendar\n",
    "\n",
    "try:\n",
    "    yy = int(input('Enter an year as YYYY'))\n",
    "    mm = int(input('Enter a month number'))\n",
    "except Exception as e:\n",
    "    print(e)\n",
    "    print('enter a number not string or special characters')\n",
    "else:\n",
    "    print()\n",
    "    print(calendar.month(yy,mm))\n"
   ]
  },
  {
   "cell_type": "markdown",
   "metadata": {},
   "source": [
    "### 4. Write a Python program to solve quadratic equation?"
   ]
  },
  {
   "cell_type": "code",
   "execution_count": 36,
   "metadata": {},
   "outputs": [
    {
     "name": "stdout",
     "output_type": "stream",
     "text": [
      "enter the x square coefficient: 1\n",
      "enter the x  coefficient: 5\n",
      "enter the constant value: 3\n",
      "the roots are real and they are:  (-0.6972243622680054+0j) (-4.302775637731995+0j)\n"
     ]
    }
   ],
   "source": [
    "import cmath\n",
    "\n",
    "a = float(input('enter the x square coefficient: '))\n",
    "b = float(input('enter the x  coefficient: '))\n",
    "c = float(input('enter the constant value: '))\n",
    "try:\n",
    "    d = (b**2) - (4*a*c)\n",
    "    sqrtVal = cmath.sqrt(d)\n",
    "    root1 = (-b + sqrtVal) /(2*a)\n",
    "    root2 = (-b - sqrtVal) /(2*a)\n",
    "except Exception as e:\n",
    "    print(e)\n",
    "    print('enter a valid input')\n",
    "else:\n",
    "    if (d > 0):\n",
    "        print('the roots are real and they are: ', root1, root2)\n",
    "    if (d == 0):\n",
    "        print('the roots are equal and repititive: ', root1, root2)\n",
    "    if (d <0):\n",
    "        print('the roots are complex {} and {}' .format(root1, root2))"
   ]
  },
  {
   "cell_type": "markdown",
   "metadata": {},
   "source": [
    "### 5. Write a Python program to swap two variables without temp variable?"
   ]
  },
  {
   "cell_type": "code",
   "execution_count": 21,
   "metadata": {},
   "outputs": [
    {
     "name": "stdout",
     "output_type": "stream",
     "text": [
      "Before: 10 5\n",
      "After: 5 10\n"
     ]
    }
   ],
   "source": [
    "a = 10\n",
    "b = 5\n",
    "print('Before:',a,b)\n",
    "(a,b) = (b,a)\n",
    "print('After:',a,b)"
   ]
  },
  {
   "cell_type": "code",
   "execution_count": null,
   "metadata": {},
   "outputs": [],
   "source": []
  },
  {
   "cell_type": "code",
   "execution_count": null,
   "metadata": {},
   "outputs": [],
   "source": []
  }
 ],
 "metadata": {
  "kernelspec": {
   "display_name": "Python 3",
   "language": "python",
   "name": "python3"
  },
  "language_info": {
   "codemirror_mode": {
    "name": "ipython",
    "version": 3
   },
   "file_extension": ".py",
   "mimetype": "text/x-python",
   "name": "python",
   "nbconvert_exporter": "python",
   "pygments_lexer": "ipython3",
   "version": "3.8.5"
  }
 },
 "nbformat": 4,
 "nbformat_minor": 4
}
