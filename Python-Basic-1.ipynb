{
 "cells": [
  {
   "cell_type": "markdown",
   "metadata": {},
   "source": [
    "### 1. What are the differences between operators and values in the following?\n",
    "*\n",
    "'hello'\n",
    "-87.8\n",
    "-\n",
    "/\n",
    "+\n",
    "6\n",
    "\n",
    "#### Answer: \n",
    "- * is operator\n",
    "- 'hello' is value of type string\n",
    "- -87.8 is value of type float\n",
    "- - is minus operator\n",
    "- / is division operator\n",
    "- + is addition operator\n",
    "- 6 is value of type int\n",
    "#### Explanation:\n",
    "Value could be a string, integer, float, and etc. Operations on the values are performed by the operators eg: 5 * 4, 'S' + 'v' and etc\n",
    "\n"
   ]
  },
  {
   "cell_type": "markdown",
   "metadata": {},
   "source": [
    "### 2. What is the difference between string and variable?\n",
    "spam\n",
    "'spam'\n",
    "#### Answer: \n",
    "spam is a variable which could store values where as 'spam' is a value of data type string\n",
    "##### Detailed Explanation: value of a certain data type(eg: string) could be assigned to a 'variable'. For example var = 'name', in this example name is a value of data type 'string' (usually represented with single or double quotes) and is assigned to a variable by the name var. In other words using a = operator the right hand side ('name') is stored into the left hand side (var)\n",
    "\n"
   ]
  },
  {
   "cell_type": "markdown",
   "metadata": {},
   "source": [
    "### 3. Describe three different data forms.\n",
    "\n",
    "- int, float and string\n",
    "- int repersents whole numbers 1,56, 32\n",
    "- float represents decimal numbers 2.6, -76.3\n",
    "- string represents ordered sequence of characters 'mars', 'universe'\n",
    "\n",
    "\n"
   ]
  },
  {
   "cell_type": "markdown",
   "metadata": {},
   "source": [
    "### 4. What makes up an expression? What are the functions of all expressions?\n",
    "\n",
    "#### A Python expression can be defined as any element in our program that evaluates to some value. i.e anything that evaluates to something is a Python expression. \n",
    "\n",
    "- Expressions always returns a value\n",
    "- Functions are also expressions. Even a non returning function will still return value, so it is an expression.\n",
    "- Examples Of Python Expressions: “Hello” + “World”, 4 + 5 etc.\n",
    "- An expression is a combination of values, variables, operators, and calls to functions. \n",
    "- If you ask Python to print an expression, the interpreter evaluates the expression and displays the result.\n",
    "\n"
   ]
  },
  {
   "cell_type": "markdown",
   "metadata": {},
   "source": [
    "### 5. In this chapter, assignment statements such as spam = 10 were added. What's the difference between a declaration and an expression?\n",
    "\n",
    "#### spam = 10 is a Python statement and not an expression\n",
    "- Expressions always returns a value but statements doesnot return any value\n",
    "- Examples Of Python Expressions: “Hello” + “World”, 4 + 5 etc.and examples Of Python statements: Assignment statements, conditional branching, loops, import, def, pass, etc\n",
    "- Expression can print the result value where as statement cannot print any result\n",
    "\n"
   ]
  },
  {
   "cell_type": "markdown",
   "metadata": {},
   "source": [
    "### 6. After running the following code, what does the variable bacon contain?\n",
    "bacon = 22\n",
    "bacon + 1\n",
    "\n",
    "#### Answer: 23\n",
    "\n"
   ]
  },
  {
   "cell_type": "code",
   "execution_count": 3,
   "metadata": {},
   "outputs": [
    {
     "data": {
      "text/plain": [
       "23"
      ]
     },
     "execution_count": 3,
     "metadata": {},
     "output_type": "execute_result"
    }
   ],
   "source": [
    "bacon = 22\n",
    "bacon + 1"
   ]
  },
  {
   "cell_type": "markdown",
   "metadata": {},
   "source": [
    "### 7. What should the values of the following two terms be?\n",
    "\n",
    "'spam' + 'spamspam'\n",
    "'spam' * 3\n",
    "\n",
    "#### Answers: \n",
    "- spamspamspam\n",
    "- spamspamspam\n",
    "\n",
    "\n"
   ]
  },
  {
   "cell_type": "code",
   "execution_count": 7,
   "metadata": {},
   "outputs": [
    {
     "name": "stdout",
     "output_type": "stream",
     "text": [
      "spamspamspam\n",
      "spamspamspam\n"
     ]
    }
   ],
   "source": [
    "print('spam' + 'spamspam')\n",
    "print('spam' * 3)"
   ]
  },
  {
   "cell_type": "markdown",
   "metadata": {},
   "source": [
    "### 8. Why is it that eggs is a true variable name but 100 is not?\n",
    "\n",
    "#### Answer: eggs follows 'python variable name rules' where as 100 doesnot follow the rules\n",
    "\n",
    "##### Rules:\n",
    "- Python variable must begin with a letter (a - z, A - B) or underscore (_)\n",
    "- Other characters can be letters, numbers or _\n",
    "- Python variables are Case Sensitive\n",
    "- Python variables can be any (reasonable) length\n",
    "- Python reserved words which you cannot use as a variable name eg: None, True, break, continue and etc\n"
   ]
  },
  {
   "cell_type": "markdown",
   "metadata": {},
   "source": [
    "### 9. Which of the following three functions may be used to convert a value to an integer, a floating-point number, or a string?\n",
    "\n",
    "#### Answer: int( ), float( ) and str( )\n"
   ]
  },
  {
   "cell_type": "code",
   "execution_count": 8,
   "metadata": {},
   "outputs": [
    {
     "data": {
      "text/plain": [
       "12"
      ]
     },
     "execution_count": 8,
     "metadata": {},
     "output_type": "execute_result"
    }
   ],
   "source": [
    "int(12.4)"
   ]
  },
  {
   "cell_type": "code",
   "execution_count": 9,
   "metadata": {},
   "outputs": [
    {
     "data": {
      "text/plain": [
       "-23.0"
      ]
     },
     "execution_count": 9,
     "metadata": {},
     "output_type": "execute_result"
    }
   ],
   "source": [
    "float(-23)"
   ]
  },
  {
   "cell_type": "code",
   "execution_count": 11,
   "metadata": {},
   "outputs": [
    {
     "data": {
      "text/plain": [
       "'777'"
      ]
     },
     "execution_count": 11,
     "metadata": {},
     "output_type": "execute_result"
    }
   ],
   "source": [
    "str(777)"
   ]
  },
  {
   "cell_type": "markdown",
   "metadata": {},
   "source": [
    "### 10. What is the error caused by this expression? What would you do about it?\n",
    "\n",
    "'I have eaten ' + 99 + ' burritos.'\n",
    "#### Answer: The cause of the error is that one cannot cancatenate a numerical value to a string, inorder to do this first we need to convert the numerical value into a string using str() function and then cancatenate"
   ]
  },
  {
   "cell_type": "code",
   "execution_count": 13,
   "metadata": {},
   "outputs": [
    {
     "data": {
      "text/plain": [
       "'I have eaten 99 burritos.'"
      ]
     },
     "execution_count": 13,
     "metadata": {},
     "output_type": "execute_result"
    }
   ],
   "source": [
    "'I have eaten ' + str(99) + ' burritos.'"
   ]
  },
  {
   "cell_type": "code",
   "execution_count": null,
   "metadata": {},
   "outputs": [],
   "source": []
  }
 ],
 "metadata": {
  "kernelspec": {
   "display_name": "Python 3",
   "language": "python",
   "name": "python3"
  },
  "language_info": {
   "codemirror_mode": {
    "name": "ipython",
    "version": 3
   },
   "file_extension": ".py",
   "mimetype": "text/x-python",
   "name": "python",
   "nbconvert_exporter": "python",
   "pygments_lexer": "ipython3",
   "version": "3.8.5"
  }
 },
 "nbformat": 4,
 "nbformat_minor": 4
}
